{
 "cells": [
  {
   "cell_type": "code",
   "execution_count": 80,
   "metadata": {},
   "outputs": [],
   "source": [
    "import numpy as np\n",
    "import matplotlib.pyplot as plt\n",
    "import math "
   ]
  },
  {
   "attachments": {},
   "cell_type": "markdown",
   "metadata": {},
   "source": [
    "### Read values for 1m for all the ESPs and calculate A"
   ]
  },
  {
   "cell_type": "code",
   "execution_count": 36,
   "metadata": {},
   "outputs": [],
   "source": [
    "# generic function\n",
    "def readespfile(filename):\n",
    "    file = open(filename, \"r\")\n",
    "    count = 0\n",
    "    data = []\n",
    "    avs = []\n",
    "    for line in file.readlines():\n",
    "        if count % 2 == 0:\n",
    "            avs.append(float((line.split(\" \")[1])))\n",
    "        else :\n",
    "            data.append(int((line.split(\" \")[1])))\n",
    "        count += 1\n",
    "    \n",
    "    return (data, avs)\n"
   ]
  },
  {
   "cell_type": "code",
   "execution_count": 32,
   "metadata": {},
   "outputs": [],
   "source": [
    "esp1_1m, esp1_1m_av = readespfile(\"calibration_1m_esp1.txt\")\n",
    "esp2_1m, esp2_1m_av = readespfile(\"calibration_1m_esp2.txt\")\n",
    "esp3_1m, esp3_1m_av = readespfile(\"calibration_1m_esp3.txt\")"
   ]
  },
  {
   "cell_type": "code",
   "execution_count": 34,
   "metadata": {},
   "outputs": [
    {
     "name": "stdout",
     "output_type": "stream",
     "text": [
      "-60.77777777777778, -58.607142857142854, -58.46153846153846\n"
     ]
    }
   ],
   "source": [
    "#Store the final data of averages as A\n",
    "\n",
    "A_esp1 = esp1_1m_av[-1]\n",
    "A_esp2 = esp2_1m_av[-1]\n",
    "A_esp3 = esp3_1m_av[-1]\n",
    "\n",
    "print(\"{}, {}, {}\".format(A_esp1, A_esp2, A_esp3))"
   ]
  },
  {
   "attachments": {},
   "cell_type": "markdown",
   "metadata": {},
   "source": [
    "### Free Space Model"
   ]
  },
  {
   "cell_type": "code",
   "execution_count": 103,
   "metadata": {},
   "outputs": [],
   "source": [
    "# extension on the general function so that it can parse data for 3 esps from same file\n",
    "\n",
    "# generic function\n",
    "def readespfile_all(filename):\n",
    "    file = open(filename, \"r\")\n",
    "    count = 0\n",
    "    data = [[], [], []] \n",
    "    avs = [[], [], []]\n",
    "    for line in file.readlines():\n",
    "        splitdata = line.split(\" \")\n",
    "        esp = 0\n",
    "        if count % 2 == 0:\n",
    "            if splitdata[0] == \"esp1rssi\":\n",
    "                esp = 1\n",
    "            elif splitdata[0] == \"esp2rssi\":\n",
    "                esp = 2\n",
    "            elif splitdata[0] == \"esp3rssi\":\n",
    "                esp = 3\n",
    "            avs[esp-1].append(float(splitdata[1]))   \n",
    "        else :\n",
    "            if splitdata[0] == \"esp1:\":\n",
    "                esp = 1\n",
    "            elif splitdata[0] == \"esp2:\":\n",
    "                esp = 2\n",
    "            elif splitdata[0] == \"esp3:\":\n",
    "                esp = 3\n",
    "            data[esp-1].append(int(splitdata[1]))\n",
    "        count += 1\n",
    "    \n",
    "    return (data, avs)"
   ]
  },
  {
   "cell_type": "code",
   "execution_count": 107,
   "metadata": {},
   "outputs": [],
   "source": [
    "espdatas = {}\n",
    "\n",
    "def getespdata(distances):\n",
    "    espdatas[distances] = readespfile_all(distances + \".txt\") \n"
   ]
  },
  {
   "cell_type": "code",
   "execution_count": 193,
   "metadata": {},
   "outputs": [],
   "source": [
    "n = 2\n",
    "\n",
    "# in format [RSSi, calculated, actual]\n",
    "esp1_data = []\n",
    "esp2_data = []\n",
    "esp3_data = []\n",
    "\n",
    "# Free space model\n",
    "def dist(A, RSSI):\n",
    "    return 10**((A-RSSI)/(10*n))\n",
    "\n",
    "def getdistances(datas):\n",
    "    getespdata(datas)\n",
    "\n",
    "    actual_d = datas.split(\"x\")\n",
    "\n",
    "    esp1av = espdatas[datas][1][0][-1]\n",
    "    esp2av = espdatas[datas][1][1][-1]\n",
    "    esp3av = espdatas[datas][1][2][-1]\n",
    "\n",
    "    esp1_d = dist(A_esp1, esp1av)\n",
    "    esp2_d = dist(A_esp2, esp2av)\n",
    "    esp3_d = dist(A_esp3, esp3av)\n",
    "\n",
    "    if [esp1av, esp1_d, float(actual_d[0])] not in esp1_data:\n",
    "        esp1_data.append([esp1av, esp1_d, float(actual_d[0])])\n",
    "    \n",
    "    if [esp2av, esp2_d, float(actual_d[1])] not in esp2_data:\n",
    "        esp2_data.append([esp2av, esp2_d, float(actual_d[1])])\n",
    "\n",
    "    if [[esp3av, esp3_d, float(actual_d[2])]] not in esp3_data:    \n",
    "        esp3_data.append([esp3av, esp3_d, float(actual_d[2])])\n",
    "\n",
    "    return (esp1_d, esp2_d, esp3_d)\n"
   ]
  },
  {
   "cell_type": "code",
   "execution_count": 194,
   "metadata": {},
   "outputs": [
    {
     "data": {
      "text/plain": [
       "(0.08833058589461075, 1.201276156684548, 9.742889630653707)"
      ]
     },
     "execution_count": 194,
     "metadata": {},
     "output_type": "execute_result"
    }
   ],
   "source": [
    "getdistances(\"0.22x3.3x3.38\")"
   ]
  },
  {
   "cell_type": "code",
   "execution_count": 195,
   "metadata": {},
   "outputs": [
    {
     "data": {
      "text/plain": [
       "(4.074246314125243, 5.631125909655043, 3.050215223775346)"
      ]
     },
     "execution_count": 195,
     "metadata": {},
     "output_type": "execute_result"
    }
   ],
   "source": [
    "getdistances(\"7.1x5.53x3.54\")"
   ]
  },
  {
   "cell_type": "code",
   "execution_count": 196,
   "metadata": {},
   "outputs": [
    {
     "data": {
      "text/plain": [
       "(3.378766425095791, 2.6645071079277995, 4.068939349795202)"
      ]
     },
     "execution_count": 196,
     "metadata": {},
     "output_type": "execute_result"
    }
   ],
   "source": [
    "getdistances(\"1.45x2.24x2.32\")"
   ]
  },
  {
   "cell_type": "code",
   "execution_count": 197,
   "metadata": {},
   "outputs": [
    {
     "data": {
      "text/plain": [
       "(1.6511167294275908, 2.101490700588384, 2.0692452446297778)"
      ]
     },
     "execution_count": 197,
     "metadata": {},
     "output_type": "execute_result"
    }
   ],
   "source": [
    "getdistances(\"1.83x2.96x1.74\")"
   ]
  },
  {
   "cell_type": "code",
   "execution_count": 198,
   "metadata": {},
   "outputs": [
    {
     "data": {
      "text/plain": [
       "(2.2491592272510856, 2.150123322171689, 3.9443068695845933)"
      ]
     },
     "execution_count": 198,
     "metadata": {},
     "output_type": "execute_result"
    }
   ],
   "source": [
    "getdistances(\"1.95x2.04x4.87\")"
   ]
  },
  {
   "cell_type": "code",
   "execution_count": 200,
   "metadata": {},
   "outputs": [
    {
     "data": {
      "text/plain": [
       "(1.7444826989992543, 10.462677939546168, 2.316984224903685)"
      ]
     },
     "execution_count": 200,
     "metadata": {},
     "output_type": "execute_result"
    }
   ],
   "source": [
    "getdistances(\"2.38x4.71x2.78\")"
   ]
  },
  {
   "cell_type": "code",
   "execution_count": 201,
   "metadata": {},
   "outputs": [
    {
     "data": {
      "text/plain": [
       "(1.202703930192356, 3.33940968808814, 3.89913274371174)"
      ]
     },
     "execution_count": 201,
     "metadata": {},
     "output_type": "execute_result"
    }
   ],
   "source": [
    "getdistances(\"2.84x2.74x5.09\")"
   ]
  },
  {
   "cell_type": "code",
   "execution_count": 202,
   "metadata": {},
   "outputs": [
    {
     "data": {
      "text/plain": [
       "(1.133164418838601, 5.8139386321294975, 0.7752166233340911)"
      ]
     },
     "execution_count": 202,
     "metadata": {},
     "output_type": "execute_result"
    }
   ],
   "source": [
    "getdistances(\"3.08x3.23x0.52\")"
   ]
  },
  {
   "cell_type": "code",
   "execution_count": 203,
   "metadata": {},
   "outputs": [
    {
     "data": {
      "text/plain": [
       "(0.8722813070352142, 0.05486377848437107, 2.1410498576370642)"
      ]
     },
     "execution_count": 203,
     "metadata": {},
     "output_type": "execute_result"
    }
   ],
   "source": [
    "getdistances(\"3.27x0.09x3.42\")"
   ]
  },
  {
   "cell_type": "code",
   "execution_count": 204,
   "metadata": {},
   "outputs": [
    {
     "data": {
      "text/plain": [
       "(2.5628911341897362, 3.46451827983309, 6.291312512866314)"
      ]
     },
     "execution_count": 204,
     "metadata": {},
     "output_type": "execute_result"
    }
   ],
   "source": [
    "getdistances(\"3.59x5.3x2.6\")"
   ]
  },
  {
   "cell_type": "code",
   "execution_count": 205,
   "metadata": {},
   "outputs": [
    {
     "data": {
      "text/plain": [
       "(2.005799790887667, 11.533219283832945, 0.9139513463064872)"
      ]
     },
     "execution_count": 205,
     "metadata": {},
     "output_type": "execute_result"
    }
   ],
   "source": [
    "getdistances(\"4.59x2.37x2.18\")"
   ]
  },
  {
   "cell_type": "code",
   "execution_count": 206,
   "metadata": {},
   "outputs": [
    {
     "data": {
      "text/plain": [
       "(5.313697479011474, 5.708013116403511, 11.522280977398216)"
      ]
     },
     "execution_count": 206,
     "metadata": {},
     "output_type": "execute_result"
    }
   ],
   "source": [
    "getdistances(\"6.44x3.24x6.31\")"
   ]
  },
  {
   "cell_type": "code",
   "execution_count": 207,
   "metadata": {},
   "outputs": [
    {
     "data": {
      "text/plain": [
       "(4.074246314125243, 5.631125909655043, 3.050215223775346)"
      ]
     },
     "execution_count": 207,
     "metadata": {},
     "output_type": "execute_result"
    }
   ],
   "source": [
    "getdistances(\"7.1x5.53x3.54\")"
   ]
  },
  {
   "cell_type": "code",
   "execution_count": 208,
   "metadata": {},
   "outputs": [
    {
     "data": {
      "text/plain": [
       "(2.9417862322691164, 12.333076591083824, 1.7589618098196327)"
      ]
     },
     "execution_count": 208,
     "metadata": {},
     "output_type": "execute_result"
    }
   ],
   "source": [
    "getdistances(\"9.25x7.37x5.95\")"
   ]
  },
  {
   "cell_type": "code",
   "execution_count": 209,
   "metadata": {},
   "outputs": [
    {
     "data": {
      "text/plain": [
       "(3.341706119501423, 12.063158634104669, 12.632359611041865)"
      ]
     },
     "execution_count": 209,
     "metadata": {},
     "output_type": "execute_result"
    }
   ],
   "source": [
    "getdistances(\"10.12x6.85x8.74\")"
   ]
  },
  {
   "cell_type": "code",
   "execution_count": 210,
   "metadata": {},
   "outputs": [
    {
     "data": {
      "text/plain": [
       "(3.8336380872014706, 0.9369710887601186, 3.6503940139212236)"
      ]
     },
     "execution_count": 210,
     "metadata": {},
     "output_type": "execute_result"
    }
   ],
   "source": [
    "getdistances(\"2x2x2\")"
   ]
  },
  {
   "cell_type": "code",
   "execution_count": 211,
   "metadata": {},
   "outputs": [
    {
     "data": {
      "text/plain": [
       "[[-39.7, 0.08833058589461075, 0.22],\n",
       " [-72.97872340425532, 4.074246314125243, 7.1],\n",
       " [-71.3529411764706, 3.378766425095791, 1.45],\n",
       " [-65.13333333333334, 1.6511167294275908, 1.83],\n",
       " [-67.81818181818181, 2.2491592272510856, 1.95],\n",
       " [-65.61111111111111, 1.7444826989992543, 2.38],\n",
       " [-62.38095238095238, 1.202703930192356, 2.84],\n",
       " [-61.86363636363637, 1.133164418838601, 3.08],\n",
       " [-59.59090909090909, 0.8722813070352142, 3.27],\n",
       " [-68.95238095238095, 2.5628911341897362, 3.59],\n",
       " [-66.82352941176471, 2.005799790887667, 4.59],\n",
       " [-75.28571428571429, 5.313697479011474, 6.44],\n",
       " [-70.15, 2.9417862322691164, 9.25],\n",
       " [-71.25714285714285, 3.341706119501423, 10.12],\n",
       " [-72.45, 3.8336380872014706, 2.0]]"
      ]
     },
     "execution_count": 211,
     "metadata": {},
     "output_type": "execute_result"
    }
   ],
   "source": [
    "esp1_data"
   ]
  },
  {
   "cell_type": "code",
   "execution_count": 212,
   "metadata": {},
   "outputs": [
    {
     "data": {
      "text/plain": [
       "[[-60.2, 1.201276156684548, 3.3],\n",
       " [-73.61904761904762, 5.631125909655043, 5.53],\n",
       " [-67.11948051948052, 2.6645071079277995, 2.24],\n",
       " [-65.0576923076923, 2.101490700588384, 2.96],\n",
       " [-65.25641025641026, 2.150123322171689, 2.04],\n",
       " [-79.0, 10.462677939546168, 4.71],\n",
       " [-69.08053691275168, 3.33940968808814, 2.74],\n",
       " [-73.89655172413794, 5.8139386321294975, 3.23],\n",
       " [-33.392857142857146, 0.05486377848437107, 0.09],\n",
       " [-69.4, 3.46451827983309, 5.3],\n",
       " [-79.84615384615384, 11.533219283832945, 2.37],\n",
       " [-73.73684210526316, 5.708013116403511, 3.24],\n",
       " [-80.42857142857143, 12.333076591083824, 7.37],\n",
       " [-80.23636363636363, 12.063158634104669, 6.85],\n",
       " [-58.041666666666664, 0.9369710887601186, 2.0]]"
      ]
     },
     "execution_count": 212,
     "metadata": {},
     "output_type": "execute_result"
    }
   ],
   "source": [
    "esp2_data"
   ]
  },
  {
   "cell_type": "code",
   "execution_count": 214,
   "metadata": {},
   "outputs": [
    {
     "data": {
      "text/plain": [
       "[[-78.23529411764706, 9.742889630653707, 3.38],\n",
       " [-68.14814814814815, 3.050215223775346, 3.54],\n",
       " [-70.65116279069767, 4.068939349795202, 2.32],\n",
       " [-64.77777777777777, 2.0692452446297778, 1.74],\n",
       " [-70.38095238095238, 3.9443068695845933, 4.87],\n",
       " [-65.76, 2.316984224903685, 2.78],\n",
       " [-65.76, 2.316984224903685, 2.78],\n",
       " [-70.28089887640449, 3.89913274371174, 5.09],\n",
       " [-56.25, 0.7752166233340911, 0.52],\n",
       " [-65.07407407407408, 2.1410498576370642, 3.42],\n",
       " [-74.43636363636364, 6.291312512866314, 2.6],\n",
       " [-57.68, 0.9139513463064872, 2.18],\n",
       " [-79.6923076923077, 11.522280977398216, 6.31],\n",
       " [-68.14814814814815, 3.050215223775346, 3.54],\n",
       " [-63.36666666666667, 1.7589618098196327, 5.95],\n",
       " [-80.49122807017544, 12.632359611041865, 8.74],\n",
       " [-69.70833333333333, 3.6503940139212236, 2.0]]"
      ]
     },
     "execution_count": 214,
     "metadata": {},
     "output_type": "execute_result"
    }
   ],
   "source": [
    "esp3_data"
   ]
  },
  {
   "attachments": {},
   "cell_type": "markdown",
   "metadata": {},
   "source": [
    "### Plots of actual distance vs calculated distance"
   ]
  },
  {
   "cell_type": "code",
   "execution_count": 228,
   "metadata": {},
   "outputs": [
    {
     "data": {
      "image/png": "[encoded data removed]",
      "text/plain": [
       "<Figure size 640x480 with 1 Axes>"
      ]
     },
     "metadata": {},
     "output_type": "display_data"
    }
   ],
   "source": [
    "# Actual vs calculated for ESP1\n",
    "\n",
    "RSSI1 = [dat[0] for dat in esp1_data]\n",
    "actual1 = [dat[2] for dat in esp1_data]\n",
    "calc1 = [dat[1] for dat in esp1_data]\n",
    "\n",
    "plt.plot(RSSI1, actual1, 'rx')\n",
    "plt.plot(RSSI1, calc1, 'bo')\n",
    "plt.show()"
   ]
  },
  {
   "cell_type": "code",
   "execution_count": 229,
   "metadata": {},
   "outputs": [
    {
     "data": {
      "image/png": "[encoded data removed]",
      "text/plain": [
       "<Figure size 640x480 with 1 Axes>"
      ]
     },
     "metadata": {},
     "output_type": "display_data"
    }
   ],
   "source": [
    "# Actual vs calculated for ESP2\n",
    "\n",
    "RSSI2 = [dat[0] for dat in esp2_data]\n",
    "actual2 = [dat[2] for dat in esp2_data]\n",
    "calc2 = [dat[1] for dat in esp2_data]\n",
    "\n",
    "plt.plot(RSSI2, actual2, 'rx')\n",
    "plt.plot(RSSI2, calc2, 'bo')\n",
    "plt.show()"
   ]
  },
  {
   "cell_type": "code",
   "execution_count": 230,
   "metadata": {},
   "outputs": [
    {
     "data": {
      "image/png": "[encoded data removed]",
      "text/plain": [
       "<Figure size 640x480 with 1 Axes>"
      ]
     },
     "metadata": {},
     "output_type": "display_data"
    }
   ],
   "source": [
    "# Actual vs calculated for ESP3\n",
    "\n",
    "RSSI3 = [dat[0] for dat in esp3_data]\n",
    "actual3 = [dat[2] for dat in esp3_data]\n",
    "calc3 = [dat[1] for dat in esp3_data]\n",
    "\n",
    "plt.plot(RSSI3, actual3, 'rx')\n",
    "plt.plot(RSSI3, calc3, 'bo')\n",
    "plt.show()"
   ]
  },
  {
   "attachments": {},
   "cell_type": "markdown",
   "metadata": {},
   "source": [
    "### Accuracies"
   ]
  },
  {
   "cell_type": "code",
   "execution_count": 244,
   "metadata": {},
   "outputs": [],
   "source": [
    "# Average accuracy\n",
    "\n",
    "accuracy_esp1 = [abs(actual - calc) for actual,calc in zip(actual1, calc1)]\n",
    "accuracy_esp2 = [abs(actual - calc) for actual,calc in zip(actual2, calc2)]\n",
    "accuracy_esp3 = [abs(actual - calc) for actual,calc in zip(actual3, calc3)]"
   ]
  },
  {
   "cell_type": "code",
   "execution_count": 247,
   "metadata": {},
   "outputs": [
    {
     "data": {
      "text/plain": [
       "2.1226237999450706"
      ]
     },
     "execution_count": 247,
     "metadata": {},
     "output_type": "execute_result"
    }
   ],
   "source": [
    "avg_accuracy_esp1 = sum(accuracy_esp1)/len(accuracy_esp1)\n",
    "avg_accuracy_esp1"
   ]
  },
  {
   "cell_type": "code",
   "execution_count": 248,
   "metadata": {},
   "outputs": [
    {
     "data": {
      "text/plain": [
       "2.4846753480395183"
      ]
     },
     "execution_count": 248,
     "metadata": {},
     "output_type": "execute_result"
    }
   ],
   "source": [
    "avg_accuracy_esp2 = sum(accuracy_esp2)/len(accuracy_esp2)\n",
    "avg_accuracy_esp2"
   ]
  },
  {
   "cell_type": "code",
   "execution_count": 249,
   "metadata": {},
   "outputs": [
    {
     "data": {
      "text/plain": [
       "1.9941668493660478"
      ]
     },
     "execution_count": 249,
     "metadata": {},
     "output_type": "execute_result"
    }
   ],
   "source": [
    "avg_accuracy_esp3 = sum(accuracy_esp3)/len(accuracy_esp3)\n",
    "avg_accuracy_esp3"
   ]
  },
  {
   "attachments": {},
   "cell_type": "markdown",
   "metadata": {},
   "source": [
    "### Plots for recieved data\n"
   ]
  },
  {
   "cell_type": "code",
   "execution_count": 264,
   "metadata": {},
   "outputs": [],
   "source": [
    "def plotrecieved(distance):\n",
    "    y_axis = espdatas[distance][0][0]\n",
    "    x_axis = [i+1 for i in range(len(y_axis))]\n",
    "    y_avg  = [espdatas[distance][1][0][-1] for i in range(len(y_axis))]\n",
    "    plt.plot(x_axis, y_axis)\n",
    "    plt.plot(x_axis, y_avg, \"--\")\n",
    "    plt.title(\"ESP 1\")\n",
    "    plt.show()\n",
    "\n",
    "    y_axis = espdatas[distance][0][1]\n",
    "    x_axis = [i+1 for i in range(len(y_axis))]\n",
    "    y_avg  = [espdatas[distance][1][1][-1] for i in range(len(y_axis))]\n",
    "    plt.plot(x_axis, y_axis)\n",
    "    plt.plot(x_axis, y_avg, \"--\")\n",
    "    plt.title(\"ESP 2\")\n",
    "    plt.show()\n",
    "\n",
    "    y_axis = espdatas[distance][0][2]\n",
    "    x_axis = [i+1 for i in range(len(y_axis))]\n",
    "    y_avg  = [espdatas[distance][1][2][-1] for i in range(len(y_axis))]\n",
    "    plt.plot(x_axis, y_axis)\n",
    "    plt.plot(x_axis, y_avg, \"--\")\n",
    "    plt.title(\"ESP 3\")\n",
    "    plt.show()\n"
   ]
  },
  {
   "cell_type": "code",
   "execution_count": 265,
   "metadata": {},
   "outputs": [
    {
     "data": {
      "image/png": "[encoded data removed]",
      "text/plain": [
       "<Figure size 640x480 with 1 Axes>"
      ]
     },
     "metadata": {},
     "output_type": "display_data"
    },
    {
     "data": {
      "image/png": "[encoded data removed]",
      "text/plain": [
       "<Figure size 640x480 with 1 Axes>"
      ]
     },
     "metadata": {},
     "output_type": "display_data"
    },
    {
     "data": {
      "image/png": "[encoded data removed]",
      "text/plain": [
       "<Figure size 640x480 with 1 Axes>"
      ]
     },
     "metadata": {},
     "output_type": "display_data"
    }
   ],
   "source": [
    "plotrecieved(\"2x2x2\")"
   ]
  },
  {
   "cell_type": "code",
   "execution_count": null,
   "metadata": {},
   "outputs": [],
   "source": []
  }
 ],
 "metadata": {
  "kernelspec": {
   "display_name": "venv",
   "language": "python",
   "name": "python3"
  },
  "language_info": {
   "codemirror_mode": {
    "name": "ipython",
    "version": 3
   },
   "file_extension": ".py",
   "mimetype": "text/x-python",
   "name": "python",
   "nbconvert_exporter": "python",
   "pygments_lexer": "ipython3",
   "version": "3.10.4"
  },
  "orig_nbformat": 4,
  "vscode": {
   "interpreter": {
    "hash": "e9b4b9e13d7a4654ec3dcd113c0278083ccc1e3971d6067da21f2d588127fdbe"
   }
  }
 },
 "nbformat": 4,
 "nbformat_minor": 2
}
