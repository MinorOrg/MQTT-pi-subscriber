{
 "cells": [
  {
   "cell_type": "code",
   "execution_count": 80,
   "metadata": {},
   "outputs": [],
   "source": [
    "import numpy as np\n",
    "import matplotlib.pyplot as plt\n",
    "import math "
   ]
  },
  {
   "attachments": {},
   "cell_type": "markdown",
   "metadata": {},
   "source": [
    "### Read values for 1m for all the ESPs and calculate A"
   ]
  },
  {
   "cell_type": "code",
   "execution_count": 36,
   "metadata": {},
   "outputs": [],
   "source": [
    "# generic function\n",
    "def readespfile(filename):\n",
    "    file = open(filename, \"r\")\n",
    "    count = 0\n",
    "    data = []\n",
    "    avs = []\n",
    "    for line in file.readlines():\n",
    "        if count % 2 == 0:\n",
    "            avs.append(float((line.split(\" \")[1])))\n",
    "        else :\n",
    "            data.append(int((line.split(\" \")[1])))\n",
    "        count += 1\n",
    "    \n",
    "    return (data, avs)\n"
   ]
  },
  {
   "cell_type": "code",
   "execution_count": 32,
   "metadata": {},
   "outputs": [],
   "source": [
    "esp1_1m, esp1_1m_av = readespfile(\"calibration_1m_esp1.txt\")\n",
    "esp2_1m, esp2_1m_av = readespfile(\"calibration_1m_esp2.txt\")\n",
    "esp3_1m, esp3_1m_av = readespfile(\"calibration_1m_esp3.txt\")"
   ]
  },
  {
   "cell_type": "code",
   "execution_count": 34,
   "metadata": {},
   "outputs": [
    {
     "name": "stdout",
     "output_type": "stream",
     "text": [
      "-60.77777777777778, -58.607142857142854, -58.46153846153846\n"
     ]
    }
   ],
   "source": [
    "#Store the final data of averages as A\n",
    "\n",
    "A_esp1 = esp1_1m_av[-1]\n",
    "A_esp2 = esp2_1m_av[-1]\n",
    "A_esp3 = esp3_1m_av[-1]\n",
    "\n",
    "print(\"{}, {}, {}\".format(A_esp1, A_esp2, A_esp3))"
   ]
  },
  {
   "attachments": {},
   "cell_type": "markdown",
   "metadata": {},
   "source": [
    "### Free Space Model"
   ]
  },
  {
   "cell_type": "code",
   "execution_count": 103,
   "metadata": {},
   "outputs": [],
   "source": [
    "# extension on the general function so that it can parse data for 3 esps from same file\n",
    "\n",
    "# generic function\n",
    "def readespfile_all(filename):\n",
    "    file = open(filename, \"r\")\n",
    "    count = 0\n",
    "    data = [[], [], []] \n",
    "    avs = [[], [], []]\n",
    "    for line in file.readlines():\n",
    "        splitdata = line.split(\" \")\n",
    "        esp = 0\n",
    "        if count % 2 == 0:\n",
    "            if splitdata[0] == \"esp1rssi\":\n",
    "                esp = 1\n",
    "            elif splitdata[0] == \"esp2rssi\":\n",
    "                esp = 2\n",
    "            elif splitdata[0] == \"esp3rssi\":\n",
    "                esp = 3\n",
    "            avs[esp-1].append(float(splitdata[1]))   \n",
    "        else :\n",
    "            if splitdata[0] == \"esp1:\":\n",
    "                esp = 1\n",
    "            elif splitdata[0] == \"esp2:\":\n",
    "                esp = 2\n",
    "            elif splitdata[0] == \"esp3:\":\n",
    "                esp = 3\n",
    "            data[esp-1].append(int(splitdata[1]))\n",
    "        count += 1\n",
    "    \n",
    "    return (data, avs)"
   ]
  },
  {
   "cell_type": "code",
   "execution_count": 107,
   "metadata": {},
   "outputs": [],
   "source": [
    "espdatas = {}\n",
    "\n",
    "def getespdata(distances):\n",
    "    espdatas[distances] = readespfile_all(distances + \".txt\") \n"
   ]
  },
  {
   "cell_type": "code",
   "execution_count": 151,
   "metadata": {},
   "outputs": [],
   "source": [
    "n = 2\n",
    "\n",
    "# Free space model\n",
    "def dist(A, RSSI):\n",
    "    return 10**((A-RSSI)/(10*n))\n",
    "\n",
    "def getdistances(datas):\n",
    "    getespdata(datas)\n",
    "\n",
    "    esp1av = espdatas[datas][1][0][-1]\n",
    "    esp2av = espdatas[datas][1][1][-1]\n",
    "    esp3av = espdatas[datas][1][2][-1]\n",
    "\n",
    "    esp1_d = dist(A_esp1, esp1av)\n",
    "    esp2_d = dist(A_esp2, esp2av)\n",
    "    esp3_d = dist(A_esp3, esp3av)\n",
    "\n",
    "    return (esp1_d, esp2_d, esp3_d)\n"
   ]
  },
  {
   "cell_type": "code",
   "execution_count": 152,
   "metadata": {},
   "outputs": [
    {
     "data": {
      "text/plain": [
       "(0.08833058589461075, 1.201276156684548, 9.742889630653707)"
      ]
     },
     "execution_count": 152,
     "metadata": {},
     "output_type": "execute_result"
    }
   ],
   "source": [
    "getdistances(\"0.22x3.3x3.38\")"
   ]
  },
  {
   "cell_type": "code",
   "execution_count": 153,
   "metadata": {},
   "outputs": [
    {
     "data": {
      "text/plain": [
       "(4.074246314125243, 5.631125909655043, 3.050215223775346)"
      ]
     },
     "execution_count": 153,
     "metadata": {},
     "output_type": "execute_result"
    }
   ],
   "source": [
    "getdistances(\"7.1x5.53x3.54\")"
   ]
  },
  {
   "cell_type": "code",
   "execution_count": 154,
   "metadata": {},
   "outputs": [
    {
     "data": {
      "text/plain": [
       "(3.378766425095791, 2.6645071079277995, 4.068939349795202)"
      ]
     },
     "execution_count": 154,
     "metadata": {},
     "output_type": "execute_result"
    }
   ],
   "source": [
    "getdistances(\"1.45x2.24x2.32\")"
   ]
  },
  {
   "cell_type": "code",
   "execution_count": 155,
   "metadata": {},
   "outputs": [
    {
     "data": {
      "text/plain": [
       "(1.6511167294275908, 2.101490700588384, 2.0692452446297778)"
      ]
     },
     "execution_count": 155,
     "metadata": {},
     "output_type": "execute_result"
    }
   ],
   "source": [
    "getdistances(\"1.83x2.96x1.74\")"
   ]
  },
  {
   "cell_type": "code",
   "execution_count": 157,
   "metadata": {},
   "outputs": [
    {
     "data": {
      "text/plain": [
       "(2.2491592272510856, 2.150123322171689, 3.9443068695845933)"
      ]
     },
     "execution_count": 157,
     "metadata": {},
     "output_type": "execute_result"
    }
   ],
   "source": [
    "getdistances(\"1.95x2.04x4.87\")"
   ]
  },
  {
   "cell_type": "code",
   "execution_count": 135,
   "metadata": {},
   "outputs": [
    {
     "data": {
      "text/plain": [
       "(1.7444826989992543, 10.462677939546168, 2.316984224903685)"
      ]
     },
     "execution_count": 135,
     "metadata": {},
     "output_type": "execute_result"
    }
   ],
   "source": [
    "getdistances(\"2.38x4.71x2.78\")"
   ]
  },
  {
   "cell_type": "code",
   "execution_count": 136,
   "metadata": {},
   "outputs": [
    {
     "data": {
      "text/plain": [
       "(1.202703930192356, 3.33940968808814, 3.89913274371174)"
      ]
     },
     "execution_count": 136,
     "metadata": {},
     "output_type": "execute_result"
    }
   ],
   "source": [
    "getdistances(\"2.84x2.74x5.09\")"
   ]
  },
  {
   "cell_type": "code",
   "execution_count": 137,
   "metadata": {},
   "outputs": [
    {
     "data": {
      "text/plain": [
       "(1.133164418838601, 5.8139386321294975, 0.7752166233340911)"
      ]
     },
     "execution_count": 137,
     "metadata": {},
     "output_type": "execute_result"
    }
   ],
   "source": [
    "getdistances(\"3.08x3.23x0.52\")"
   ]
  },
  {
   "cell_type": "code",
   "execution_count": 139,
   "metadata": {},
   "outputs": [
    {
     "data": {
      "text/plain": [
       "(0.8722813070352142, 0.05486377848437107, 2.1410498576370642)"
      ]
     },
     "execution_count": 139,
     "metadata": {},
     "output_type": "execute_result"
    }
   ],
   "source": [
    "getdistances(\"3.27x0.09x3.42\")"
   ]
  },
  {
   "cell_type": "code",
   "execution_count": 141,
   "metadata": {},
   "outputs": [
    {
     "data": {
      "text/plain": [
       "(2.5628911341897362, 3.46451827983309, 6.291312512866314)"
      ]
     },
     "execution_count": 141,
     "metadata": {},
     "output_type": "execute_result"
    }
   ],
   "source": [
    "getdistances(\"3.59x5.3x2.6\")"
   ]
  },
  {
   "cell_type": "code",
   "execution_count": 142,
   "metadata": {},
   "outputs": [
    {
     "data": {
      "text/plain": [
       "(2.005799790887667, 11.533219283832945, 0.9139513463064872)"
      ]
     },
     "execution_count": 142,
     "metadata": {},
     "output_type": "execute_result"
    }
   ],
   "source": [
    "getdistances(\"4.59x2.37x2.18\")"
   ]
  },
  {
   "cell_type": "code",
   "execution_count": 143,
   "metadata": {},
   "outputs": [
    {
     "data": {
      "text/plain": [
       "(5.313697479011474, 5.708013116403511, 11.522280977398216)"
      ]
     },
     "execution_count": 143,
     "metadata": {},
     "output_type": "execute_result"
    }
   ],
   "source": [
    "getdistances(\"6.44x3.24x6.31\")"
   ]
  },
  {
   "cell_type": "code",
   "execution_count": 144,
   "metadata": {},
   "outputs": [
    {
     "data": {
      "text/plain": [
       "(4.074246314125243, 5.631125909655043, 3.050215223775346)"
      ]
     },
     "execution_count": 144,
     "metadata": {},
     "output_type": "execute_result"
    }
   ],
   "source": [
    "getdistances(\"7.1x5.53x3.54\")"
   ]
  },
  {
   "cell_type": "code",
   "execution_count": 145,
   "metadata": {},
   "outputs": [
    {
     "data": {
      "text/plain": [
       "(2.9417862322691164, 12.333076591083824, 1.7589618098196327)"
      ]
     },
     "execution_count": 145,
     "metadata": {},
     "output_type": "execute_result"
    }
   ],
   "source": [
    "getdistances(\"9.25x7.37x5.95\")"
   ]
  },
  {
   "cell_type": "code",
   "execution_count": 146,
   "metadata": {},
   "outputs": [
    {
     "data": {
      "text/plain": [
       "(3.341706119501423, 12.063158634104669, 12.632359611041865)"
      ]
     },
     "execution_count": 146,
     "metadata": {},
     "output_type": "execute_result"
    }
   ],
   "source": [
    "getdistances(\"10.12x6.85x8.74\")"
   ]
  },
  {
   "cell_type": "code",
   "execution_count": null,
   "metadata": {},
   "outputs": [],
   "source": []
  }
 ],
 "metadata": {
  "kernelspec": {
   "display_name": "venv",
   "language": "python",
   "name": "python3"
  },
  "language_info": {
   "codemirror_mode": {
    "name": "ipython",
    "version": 3
   },
   "file_extension": ".py",
   "mimetype": "text/x-python",
   "name": "python",
   "nbconvert_exporter": "python",
   "pygments_lexer": "ipython3",
   "version": "3.10.9"
  },
  "orig_nbformat": 4,
  "vscode": {
   "interpreter": {
    "hash": "e9b4b9e13d7a4654ec3dcd113c0278083ccc1e3971d6067da21f2d588127fdbe"
   }
  }
 },
 "nbformat": 4,
 "nbformat_minor": 2
}
