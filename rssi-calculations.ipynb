{
 "cells": [
  {
   "cell_type": "code",
   "execution_count": 158,
   "metadata": {},
   "outputs": [],
   "source": [
    "import matplotlib.pyplot as plt\n",
    "import numpy as np\n",
    "from scipy.optimize import curve_fit\n",
    "import sys\n",
    "import os\n",
    "import math"
   ]
  },
  {
   "attachments": {},
   "cell_type": "markdown",
   "metadata": {},
   "source": [
    "### Retrieve RSSI data, make a 6x6 array"
   ]
  },
  {
   "cell_type": "code",
   "execution_count": 159,
   "metadata": {},
   "outputs": [],
   "source": [
    "esp1data = np.zeros((7,7))\n",
    "esp2data = np.zeros((7,7))\n",
    "esp3data = np.zeros((7,7))\n",
    "\n",
    "for file in os.listdir('./ble-data'):\n",
    "    data = open(f\"./ble-data/{file}\", \"r\")\n",
    "    esp1 = []\n",
    "    esp2 = []\n",
    "    esp3 = []\n",
    "    for line in data.readlines():\n",
    "        spl = line.split()\n",
    "        if spl[0] == \"esp1:\":\n",
    "            esp1.append(int(spl[1]))\n",
    "        elif spl[0] == \"esp2:\":\n",
    "            esp2.append(int(spl[1]))\n",
    "        elif spl[0] == \"esp3:\":\n",
    "            esp3.append(int(spl[1]))\n",
    "\n",
    "    e1av = sum(esp1)/len(esp1)\n",
    "    e2av = sum(esp2)/len(esp2)\n",
    "    e3av = sum(esp3)/len(esp3)\n",
    "\n",
    "    esp1data[int(file[1])][int(file[2])] = e1av\n",
    "    esp2data[int(file[1])][int(file[2])] = e2av\n",
    "    esp3data[int(file[1])][int(file[2])] = e3av\n"
   ]
  },
  {
   "cell_type": "code",
   "execution_count": 160,
   "metadata": {},
   "outputs": [
    {
     "data": {
      "text/plain": [
       "array([[-91.33333333, -74.8       , -86.14285714, -90.55555556,\n",
       "        -90.        , -86.27272727, -93.        ],\n",
       "       [-84.45      , -49.61538462, -85.25      , -91.2       ,\n",
       "        -86.45454545, -91.        , -89.        ],\n",
       "       [-94.91304348, -69.16666667, -81.70588235, -82.26315789,\n",
       "        -84.63157895, -90.59090909, -94.08333333],\n",
       "       [-93.09302326, -94.09677419, -88.95652174, -90.52173913,\n",
       "        -92.09677419, -91.57978723, -95.29545455],\n",
       "       [-94.75      , -92.45454545, -94.10526316, -91.42105263,\n",
       "        -98.5       , -94.7       , -92.47826087],\n",
       "       [-96.        , -95.22580645, -92.5862069 , -93.90909091,\n",
       "        -91.86666667, -92.625     , -94.5       ],\n",
       "       [-95.05128205, -95.72727273, -95.25      , -95.        ,\n",
       "        -94.57142857, -88.        , -91.93333333]])"
      ]
     },
     "execution_count": 160,
     "metadata": {},
     "output_type": "execute_result"
    }
   ],
   "source": [
    "esp1data "
   ]
  },
  {
   "cell_type": "code",
   "execution_count": 161,
   "metadata": {},
   "outputs": [
    {
     "data": {
      "text/plain": [
       "array([[-96.33333333, -94.2       , -92.22222222, -92.44444444,\n",
       "        -87.2       , -90.53846154, -92.64      ],\n",
       "       [-92.        , -87.34375   , -92.70588235, -90.47826087,\n",
       "        -82.46153846, -90.22222222, -92.1       ],\n",
       "       [-96.52380952, -92.58823529, -91.5       , -91.3       ,\n",
       "        -79.13636364, -73.05555556, -81.6875    ],\n",
       "       [-98.5       , -91.14634146, -93.51428571, -79.4       ,\n",
       "        -76.17073171, -51.08247423, -74.20454545],\n",
       "       [-97.        , -96.66666667, -93.27272727, -89.9       ,\n",
       "        -95.5       , -84.        , -77.        ],\n",
       "       [-95.36666667, -96.53333333, -91.91666667, -92.92307692,\n",
       "        -97.53333333, -93.58823529, -92.48148148],\n",
       "       [-92.65306122, -92.23076923, -93.46666667, -91.55555556,\n",
       "        -94.22222222, -96.9       , -97.41666667]])"
      ]
     },
     "execution_count": 161,
     "metadata": {},
     "output_type": "execute_result"
    }
   ],
   "source": [
    "esp2data"
   ]
  },
  {
   "cell_type": "code",
   "execution_count": 162,
   "metadata": {},
   "outputs": [
    {
     "data": {
      "text/plain": [
       "array([[-90.93333333, -93.6       , -89.        , -89.5       ,\n",
       "        -89.6       , -90.        , -92.6744186 ],\n",
       "       [-87.44      , -92.57142857, -87.4375    , -92.125     ,\n",
       "        -88.66666667, -86.97058824, -96.19047619],\n",
       "       [-84.88      , -95.        , -85.29411765, -93.1       ,\n",
       "        -89.92      , -92.24      , -95.41666667],\n",
       "       [-89.97142857, -86.78947368, -90.05128205, -88.20512821,\n",
       "        -86.5       , -92.34183673, -94.84848485],\n",
       "       [-88.61538462, -74.04      , -78.        , -81.95      ,\n",
       "        -90.58823529, -91.88235294, -91.6       ],\n",
       "       [-78.88888889, -63.83163265, -76.80555556, -86.91666667,\n",
       "        -89.06666667, -92.5       , -92.12      ],\n",
       "       [-90.68181818, -84.69230769, -87.4       , -91.375     ,\n",
       "        -95.55555556, -91.2       , -95.83870968]])"
      ]
     },
     "execution_count": 162,
     "metadata": {},
     "output_type": "execute_result"
    }
   ],
   "source": [
    "esp3data"
   ]
  },
  {
   "attachments": {},
   "cell_type": "markdown",
   "metadata": {},
   "source": [
    "### Determination of A for 3 esps"
   ]
  },
  {
   "cell_type": "code",
   "execution_count": 163,
   "metadata": {},
   "outputs": [
    {
     "name": "stdout",
     "output_type": "stream",
     "text": [
      "-92.6483870967742 -87.7368191721133 -90.50672043010752\n"
     ]
    }
   ],
   "source": [
    "### Esp1\n",
    "### Since the ESP is in position 1x1 and the distance between every point is 0.5m get data from 3x1 and 1x3 and average it\n",
    "\n",
    "A_esp1 = ( esp1data[1][3] + esp1data[3][1] ) / 2\n",
    "\n",
    "### Esp2\n",
    "### Since the ESP is in position 3x5 and the distance between every point is 0.5m get data from 3x3, 1x5 and 5x5 and average it\n",
    "A_esp2 = ( esp2data[3][3] + esp2data[1][5] + esp2data[5][5] ) / 3\n",
    "\n",
    "### Esp3 \n",
    "### Since the ESP is in position 5x1 and the distance between every point is 0.5m get data from 3x1 and 5x3 and average it\n",
    "A_esp3 = ( esp3data[5][3] + esp1data[3][1] ) / 2\n",
    "\n",
    "print(f\"{A_esp1} {A_esp2} {A_esp3}\")"
   ]
  },
  {
   "attachments": {},
   "cell_type": "markdown",
   "metadata": {},
   "source": [
    "### Get a calculated position estimation for all of the recieved data points based on the value of A\n",
    "\n",
    "assuming n = 2"
   ]
  },
  {
   "cell_type": "code",
   "execution_count": 164,
   "metadata": {},
   "outputs": [],
   "source": [
    "# Generic function\n",
    "def calculatedistances(data, A, n):\n",
    "    calculated_distances = np.zeros((data.shape[0], data.shape[1]))\n",
    "    for (i, j), value in np.ndenumerate(data):\n",
    "        calculated_distances[i][j] = 10**((A-value)/(10*n))\n",
    "    return calculated_distances"
   ]
  },
  {
   "cell_type": "code",
   "execution_count": 165,
   "metadata": {},
   "outputs": [
    {
     "data": {
      "text/plain": [
       "array([[0.85950283, 0.1281093 , 0.47285012, 0.78588396, 0.73719205,\n",
       "        0.47997322, 1.04131145],\n",
       "       [0.38911739, 0.00705261, 0.42665874, 0.84640973, 0.4901262 ,\n",
       "        0.82714309, 0.65702311],\n",
       "       [1.29787486, 0.06697519, 0.28371008, 0.30250917, 0.39733753,\n",
       "        0.7890892 , 1.17963408],\n",
       "       [1.05252352, 1.1814609 , 0.65374252, 0.78283025, 0.93846775,\n",
       "        0.88423969, 1.35629254],\n",
       "       [1.27373958, 0.97793033, 1.18261614, 0.86822698, 1.96146537,\n",
       "        1.26642841, 0.98060406],\n",
       "       [1.47089152, 1.34546055, 0.9928668 , 1.15620593, 0.9139322 ,\n",
       "        0.99731108, 1.23760098],\n",
       "       [1.31869618, 1.4254247 , 1.3492134 , 1.31093345, 1.24782038,\n",
       "        0.58557246, 0.92097388]])"
      ]
     },
     "execution_count": 165,
     "metadata": {},
     "output_type": "execute_result"
    }
   ],
   "source": [
    "esp1_calculated_distances = calculatedistances(esp1data, A_esp1, 2)\n",
    "esp1_calculated_distances"
   ]
  },
  {
   "cell_type": "code",
   "execution_count": 166,
   "metadata": {},
   "outputs": [
    {
     "data": {
      "text/plain": [
       "array([[2.69045485, 2.104549  , 1.6759851 , 1.71941719, 0.94006751,\n",
       "        1.3806453 , 1.75856749],\n",
       "       [1.63365009, 0.95575492, 1.77195692, 1.37110933, 0.54479858,\n",
       "        1.33128228, 1.65256687],\n",
       "       [2.75010653, 1.74811825, 1.54226514, 1.5071589 , 0.37151574,\n",
       "        0.1844747 , 0.49834952],\n",
       "       [3.45270156, 1.48073082, 1.94479275, 0.38296496, 0.26405575,\n",
       "        0.01469883, 0.21056506],\n",
       "       [2.90508632, 2.79571164, 1.89145235, 1.28280027, 2.44432552,\n",
       "        0.65036782, 0.29050863],\n",
       "       [2.40709026, 2.75312359, 1.61805163, 1.81682412, 3.08905548,\n",
       "        1.96142093, 1.72676452],\n",
       "       [1.76121389, 1.6776351 , 1.9341599 , 1.55216119, 2.10994023,\n",
       "        2.87183207, 3.04784148]])"
      ]
     },
     "execution_count": 166,
     "metadata": {},
     "output_type": "execute_result"
    }
   ],
   "source": [
    "esp2_calculated_distances = calculatedistances(esp2data, A_esp2, 2)\n",
    "esp2_calculated_distances"
   ]
  },
  {
   "cell_type": "code",
   "execution_count": 167,
   "metadata": {},
   "outputs": [
    {
     "data": {
      "text/plain": [
       "array([[1.05034179, 1.42778882, 0.84074439, 0.89056163, 0.90087385,\n",
       "        0.94333072, 1.2834676 ],\n",
       "       [0.70252855, 1.26833918, 0.70232638, 1.20479728, 0.80909089,\n",
       "        0.66556947, 1.92392345],\n",
       "       [0.52319547, 1.6775056 , 0.5487441 , 1.34791957, 0.93468221,\n",
       "        1.2208547 , 1.75993777],\n",
       "       [0.94023282, 0.65183498, 0.94891668, 0.76722084, 0.63046935,\n",
       "        1.23525271, 1.64849723],\n",
       "       [0.80432804, 0.15019794, 0.23695396, 0.37339111, 1.00942892,\n",
       "        1.1716061 , 1.13413298],\n",
       "       [0.26248738, 0.04637091, 0.20651032, 0.66145044, 0.84722217,\n",
       "        1.25795174, 1.20410394],\n",
       "       [1.02036344, 0.51201108, 0.69930072, 1.10513155, 1.78830568,\n",
       "        1.08308858, 1.84756388]])"
      ]
     },
     "execution_count": 167,
     "metadata": {},
     "output_type": "execute_result"
    }
   ],
   "source": [
    "esp3_calculated_distances = calculatedistances(esp3data, A_esp3, 2)\n",
    "esp3_calculated_distances"
   ]
  },
  {
   "attachments": {},
   "cell_type": "markdown",
   "metadata": {},
   "source": [
    "### Estimate a value of n based on data at 1m and 0.5m and calculate distances"
   ]
  },
  {
   "cell_type": "code",
   "execution_count": 168,
   "metadata": {},
   "outputs": [
    {
     "name": "stdout",
     "output_type": "stream",
     "text": [
      "-78.41666666666667 -76.85770817935452 -78.60668803418802\n"
     ]
    }
   ],
   "source": [
    "### Determination of average RSSI values at 0.5m using the 4 data \n",
    "\n",
    "def determineaverage_05(data, x, y):\n",
    "    return (data[x-1][y] + data[x][y-1] + data[x+1][y] + data[x][y+1]) / 4\n",
    "\n",
    "esp1_05_av = determineaverage_05(esp1data, 1, 1)\n",
    "esp2_05_av = determineaverage_05(esp2data, 3, 5)\n",
    "esp3_05_av = determineaverage_05(esp3data, 5, 1)\n",
    "\n",
    "print(f\"{esp1_05_av} {esp2_05_av} {esp3_05_av}\")"
   ]
  },
  {
   "cell_type": "code",
   "execution_count": 169,
   "metadata": {},
   "outputs": [
    {
     "data": {
      "text/plain": [
       "4.098247611189158"
      ]
     },
     "execution_count": 169,
     "metadata": {},
     "output_type": "execute_result"
    }
   ],
   "source": [
    "### Determine the values of n based on datas of each esp and average them\n",
    "\n",
    "def determine_n(A, distance, RSSI):\n",
    "    return (A - RSSI)/(10 * math.log10(distance))\n",
    "\n",
    "n_e1 = determine_n(A_esp1, 0.5, esp1_05_av)\n",
    "n_e2 = determine_n(A_esp2, 0.5, esp2_05_av)\n",
    "n_e3 = determine_n(A_esp3, 0.5, esp3_05_av)\n",
    "\n",
    "n_av = (n_e1 + n_e2 + n_e3) / 3\n",
    "n_av"
   ]
  },
  {
   "cell_type": "code",
   "execution_count": 170,
   "metadata": {},
   "outputs": [
    {
     "data": {
      "text/plain": [
       "array([[0.92877775, 0.366849  , 0.69384217, 0.88906498, 0.86174262,\n",
       "        0.69892345, 1.01995167],\n",
       "       [0.63089028, 0.08911807, 0.6598943 , 0.92184601, 0.70609981,\n",
       "        0.91154528, 0.81466095],\n",
       "       [1.13568827, 0.26731924, 0.54074874, 0.55794761, 0.63735953,\n",
       "        0.8908327 , 1.08396099],\n",
       "       [1.02529637, 1.08477988, 0.81267332, 0.88737739, 0.96948317,\n",
       "        0.94172792, 1.16035326],\n",
       "       [1.12533226, 0.98916817, 1.08529738, 0.93336651, 1.38925924,\n",
       "        1.12217538, 0.99048706],\n",
       "       [1.20720663, 1.1558215 , 0.99651252, 1.07340106, 0.95702988,\n",
       "        0.99868687, 1.10963616],\n",
       "       [1.14454337, 1.18884951, 1.15739368, 1.14125039, 1.11409829,\n",
       "        0.77015161, 0.96062129]])"
      ]
     },
     "execution_count": 170,
     "metadata": {},
     "output_type": "execute_result"
    }
   ],
   "source": [
    "esp1_calculated_distances_n = calculatedistances(esp1data, A_esp1, n_av)\n",
    "esp1_calculated_distances_n"
   ]
  },
  {
   "cell_type": "code",
   "execution_count": 171,
   "metadata": {},
   "outputs": [
    {
     "data": {
      "text/plain": [
       "array([[1.62091683, 1.43782477, 1.28660979, 1.30277443, 0.97028932,\n",
       "        1.17047451, 1.31716721],\n",
       "       [1.27064573, 0.97815763, 1.32205184, 1.16652224, 0.74349765,\n",
       "        1.14986143, 1.2778049 ],\n",
       "       [1.63835676, 1.31334196, 1.23544707, 1.22164215, 0.6167982 ,\n",
       "        0.43829578, 0.71185664],\n",
       "       [1.83074921, 1.21114081, 1.38348378, 0.6260024 , 0.52213124,\n",
       "        0.12752911, 0.46752347],\n",
       "       [1.68278196, 1.65155975, 1.36483416, 1.12923172, 1.54677391,\n",
       "        0.81062333, 0.54703408],\n",
       "       [1.53522988, 1.63923367, 1.26471041, 1.33828367, 1.73396984,\n",
       "        1.38924388, 1.30548821],\n",
       "       [1.31813416, 1.28722779, 1.37978727, 1.23930938, 1.43962109,\n",
       "        1.67335382, 1.72264106]])"
      ]
     },
     "execution_count": 171,
     "metadata": {},
     "output_type": "execute_result"
    }
   ],
   "source": [
    "esp2_calculated_distances_n = calculatedistances(esp2data, A_esp2, n_av)\n",
    "esp2_calculated_distances_n"
   ]
  },
  {
   "cell_type": "code",
   "execution_count": 172,
   "metadata": {},
   "outputs": [
    {
     "data": {
      "text/plain": [
       "array([[1.19673253, 1.39016247, 1.07355046, 1.10413658, 1.11035759,\n",
       "        1.13559412, 1.31971681],\n",
       "       [0.98346161, 1.31210238, 0.98332348, 1.27960098, 1.05363188,\n",
       "        0.95786311, 1.60795882],\n",
       "       [0.85170989, 1.50392611, 0.871759  , 1.35165303, 1.13050134,\n",
       "        1.28789555, 1.53954876],\n",
       "       [1.13377264, 0.94816546, 1.13887078, 1.02666098, 0.93286925,\n",
       "        1.29528557, 1.4911778 ],\n",
       "       [1.05060046, 0.46322116, 0.5786488 , 0.72243324, 1.17375234,\n",
       "        1.26227452, 1.24240792],\n",
       "       [0.60828141, 0.26103417, 0.54109038, 0.9549656 , 1.07757914,\n",
       "        1.30684722, 1.27924157],\n",
       "       [1.17994009, 0.84277544, 0.98125388, 1.22680083, 1.5516095 ,\n",
       "        1.21479765, 1.57649131]])"
      ]
     },
     "execution_count": 172,
     "metadata": {},
     "output_type": "execute_result"
    }
   ],
   "source": [
    "esp3_calculated_distances_n = calculatedistances(esp3data, A_esp2, n_av)\n",
    "esp3_calculated_distances_n"
   ]
  },
  {
   "attachments": {},
   "cell_type": "markdown",
   "metadata": {},
   "source": [
    "### Calculate actual distance from each esp to the points on grid using pythagoras theorem"
   ]
  },
  {
   "cell_type": "code",
   "execution_count": 173,
   "metadata": {},
   "outputs": [],
   "source": [
    "## Generic function\n",
    "def getdistancesfromgrid(gridsizex, gridsizey, pointx, pointy, unitdistance):\n",
    "    distances = np.zeros((gridsizex, gridsizey))\n",
    "    for (i,j), data in np.ndenumerate(distances):\n",
    "        distances[i][j] = math.sqrt(abs(i-pointx)**2 + abs(j-pointy)**2) * unitdistance\n",
    "        # print(f\"{i} {j} {distances[i][j]}\")\n",
    "    return distances"
   ]
  },
  {
   "cell_type": "code",
   "execution_count": 174,
   "metadata": {},
   "outputs": [
    {
     "data": {
      "text/plain": [
       "array([[0.70710678, 0.5       , 0.70710678, 1.11803399, 1.58113883,\n",
       "        2.06155281, 2.54950976],\n",
       "       [0.5       , 0.        , 0.5       , 1.        , 1.5       ,\n",
       "        2.        , 2.5       ],\n",
       "       [0.70710678, 0.5       , 0.70710678, 1.11803399, 1.58113883,\n",
       "        2.06155281, 2.54950976],\n",
       "       [1.11803399, 1.        , 1.11803399, 1.41421356, 1.80277564,\n",
       "        2.23606798, 2.6925824 ],\n",
       "       [1.58113883, 1.5       , 1.58113883, 1.80277564, 2.12132034,\n",
       "        2.5       , 2.91547595],\n",
       "       [2.06155281, 2.        , 2.06155281, 2.23606798, 2.5       ,\n",
       "        2.82842712, 3.20156212],\n",
       "       [2.54950976, 2.5       , 2.54950976, 2.6925824 , 2.91547595,\n",
       "        3.20156212, 3.53553391]])"
      ]
     },
     "execution_count": 174,
     "metadata": {},
     "output_type": "execute_result"
    }
   ],
   "source": [
    "esp1_actual_distances = getdistancesfromgrid(7, 7, 1, 1, 0.5)\n",
    "esp1_actual_distances"
   ]
  },
  {
   "cell_type": "code",
   "execution_count": 175,
   "metadata": {},
   "outputs": [
    {
     "data": {
      "text/plain": [
       "array([[2.91547595, 2.5       , 2.12132034, 1.80277564, 1.58113883,\n",
       "        1.5       , 1.58113883],\n",
       "       [2.6925824 , 2.23606798, 1.80277564, 1.41421356, 1.11803399,\n",
       "        1.        , 1.11803399],\n",
       "       [2.54950976, 2.06155281, 1.58113883, 1.11803399, 0.70710678,\n",
       "        0.5       , 0.70710678],\n",
       "       [2.5       , 2.        , 1.5       , 1.        , 0.5       ,\n",
       "        0.        , 0.5       ],\n",
       "       [2.54950976, 2.06155281, 1.58113883, 1.11803399, 0.70710678,\n",
       "        0.5       , 0.70710678],\n",
       "       [2.6925824 , 2.23606798, 1.80277564, 1.41421356, 1.11803399,\n",
       "        1.        , 1.11803399],\n",
       "       [2.91547595, 2.5       , 2.12132034, 1.80277564, 1.58113883,\n",
       "        1.5       , 1.58113883]])"
      ]
     },
     "execution_count": 175,
     "metadata": {},
     "output_type": "execute_result"
    }
   ],
   "source": [
    "esp2_actual_distances = getdistancesfromgrid(7, 7, 3, 5, 0.5)\n",
    "esp2_actual_distances"
   ]
  },
  {
   "cell_type": "code",
   "execution_count": 176,
   "metadata": {},
   "outputs": [
    {
     "data": {
      "text/plain": [
       "array([[2.54950976, 2.5       , 2.54950976, 2.6925824 , 2.91547595,\n",
       "        3.20156212, 3.53553391],\n",
       "       [2.06155281, 2.        , 2.06155281, 2.23606798, 2.5       ,\n",
       "        2.82842712, 3.20156212],\n",
       "       [1.58113883, 1.5       , 1.58113883, 1.80277564, 2.12132034,\n",
       "        2.5       , 2.91547595],\n",
       "       [1.11803399, 1.        , 1.11803399, 1.41421356, 1.80277564,\n",
       "        2.23606798, 2.6925824 ],\n",
       "       [0.70710678, 0.5       , 0.70710678, 1.11803399, 1.58113883,\n",
       "        2.06155281, 2.54950976],\n",
       "       [0.5       , 0.        , 0.5       , 1.        , 1.5       ,\n",
       "        2.        , 2.5       ],\n",
       "       [0.70710678, 0.5       , 0.70710678, 1.11803399, 1.58113883,\n",
       "        2.06155281, 2.54950976]])"
      ]
     },
     "execution_count": 176,
     "metadata": {},
     "output_type": "execute_result"
    }
   ],
   "source": [
    "esp3_actual_distances = getdistancesfromgrid(7, 7, 5, 1, 0.5)\n",
    "esp3_actual_distances"
   ]
  },
  {
   "attachments": {},
   "cell_type": "markdown",
   "metadata": {},
   "source": [
    "### Calculate accuracies"
   ]
  },
  {
   "cell_type": "code",
   "execution_count": 177,
   "metadata": {},
   "outputs": [],
   "source": [
    "## generic function\n",
    "def compare_accuracy(actual, calculated):\n",
    "    sum = 0\n",
    "    count = 0\n",
    "    for (i,j), data in np.ndenumerate(calculated):\n",
    "        sum += abs(data-actual[i][j])\n",
    "        count += 1\n",
    "    return sum/count"
   ]
  },
  {
   "cell_type": "code",
   "execution_count": 178,
   "metadata": {},
   "outputs": [
    {
     "name": "stdout",
     "output_type": "stream",
     "text": [
      "0.9475549301269931 0.5183022985194193 0.8877960733300515\n"
     ]
    }
   ],
   "source": [
    "esp1_acc = compare_accuracy(esp1_actual_distances, esp1_calculated_distances)\n",
    "esp2_acc = compare_accuracy(esp2_actual_distances, esp2_calculated_distances)\n",
    "esp3_acc = compare_accuracy(esp3_actual_distances, esp3_calculated_distances)\n",
    "\n",
    "print(f\"{esp1_acc} {esp2_acc} {esp3_acc}\")\n"
   ]
  },
  {
   "cell_type": "code",
   "execution_count": 179,
   "metadata": {},
   "outputs": [
    {
     "name": "stdout",
     "output_type": "stream",
     "text": [
      "0.9407473122812394 0.49655714456338323 0.7866041619526052\n"
     ]
    }
   ],
   "source": [
    "esp1_acc_n = compare_accuracy(esp1_actual_distances, esp1_calculated_distances_n)\n",
    "esp2_acc_n = compare_accuracy(esp2_actual_distances, esp2_calculated_distances_n)\n",
    "esp3_acc_n = compare_accuracy(esp3_actual_distances, esp3_calculated_distances_n)\n",
    "\n",
    "print(f\"{esp1_acc_n} {esp2_acc_n} {esp3_acc_n}\")\n"
   ]
  },
  {
   "cell_type": "code",
   "execution_count": 180,
   "metadata": {},
   "outputs": [
    {
     "name": "stdout",
     "output_type": "stream",
     "text": [
      "0.7845511006588213 0.7413028729324093\n"
     ]
    }
   ],
   "source": [
    "av_acc = (esp1_acc + esp2_acc + esp3_acc) / 3\n",
    "av_acc_n = (esp1_acc_n + esp2_acc_n + esp3_acc_n) / 3\n",
    "\n",
    "print(f\"{av_acc} {av_acc_n}\")"
   ]
  },
  {
   "attachments": {},
   "cell_type": "markdown",
   "metadata": {},
   "source": [
    "### Average out values of corresponding equidistant places and make an array"
   ]
  },
  {
   "cell_type": "code",
   "execution_count": 181,
   "metadata": {},
   "outputs": [],
   "source": [
    "## Generic function\n",
    "\n",
    "def create_quidistant_average_matrix(data: np.array, x, y):\n",
    "    rows, columns = data.shape\n",
    "    avg_matrix = np.zeros((max(x+1,rows-x), max(y+1,columns-y)))\n",
    "\n",
    "    # print(avg_matrix)\n",
    "\n",
    "    for (i,j), dat in np.ndenumerate(avg_matrix):\n",
    "        if i == 0 and j == 0:\n",
    "            avg_matrix[i][j] = data[x][y]\n",
    "        else:\n",
    "            sum = 0\n",
    "            count = 0\n",
    "            # x,y\n",
    "            if (i+x) in range(rows) and (j+y) in range(columns):\n",
    "                sum = data[i+x][j+y]\n",
    "                count = 1\n",
    "            # x,-y\n",
    "            if (i+x) in range(rows) and (-j+y) in range(columns):\n",
    "                sum += data[i+x][-j+y]\n",
    "                count += 1\n",
    "            # -x,y\n",
    "            if (-i+x) in range(rows) and (j+y) in range(columns):\n",
    "                sum += data[-i+x][j+y]\n",
    "                count += 1\n",
    "            # -x, -y\n",
    "            if (-i+x) in range(rows) and (-j+y) in range(columns):\n",
    "                sum += data[-i+x][-j+y]\n",
    "                count += 1\n",
    "            avg_matrix[i][j] = sum/count\n",
    "            \n",
    "\n",
    "    return avg_matrix\n",
    "            \n",
    "            \n",
    "\n",
    "    # print(f\"{rows} {columns}\")\n",
    "\n"
   ]
  },
  {
   "cell_type": "code",
   "execution_count": 182,
   "metadata": {},
   "outputs": [
    {
     "data": {
      "text/plain": [
       "array([[-49.61538462, -84.85      , -91.2       , -86.45454545,\n",
       "        -91.        , -89.        ],\n",
       "       [-71.98333333, -88.52377908, -86.40935673, -87.31578947,\n",
       "        -88.43181818, -93.54166667],\n",
       "       [-94.09677419, -91.0247725 , -90.52173913, -92.09677419,\n",
       "        -91.57978723, -95.29545455],\n",
       "       [-92.45454545, -94.42763158, -91.42105263, -98.5       ,\n",
       "        -94.7       , -92.47826087],\n",
       "       [-95.22580645, -94.29310345, -93.90909091, -91.86666667,\n",
       "        -92.625     , -94.5       ],\n",
       "       [-95.72727273, -95.15064103, -95.        , -94.57142857,\n",
       "        -88.        , -91.93333333]])"
      ]
     },
     "execution_count": 182,
     "metadata": {},
     "output_type": "execute_result"
    }
   ],
   "source": [
    "esp1avg=create_quidistant_average_matrix(esp1data, 1, 1)\n",
    "esp1avg"
   ]
  },
  {
   "cell_type": "code",
   "execution_count": 183,
   "metadata": {},
   "outputs": [
    {
     "data": {
      "text/plain": [
       "array([[-51.08247423, -75.18763858, -79.4       , -93.51428571,\n",
       "        -91.14634146, -98.5       ],\n",
       "       [-78.52777778, -83.33096591, -90.6       , -92.38636364,\n",
       "        -94.62745098, -96.76190476],\n",
       "       [-91.90522876, -91.14408832, -91.7006689 , -92.31127451,\n",
       "        -91.93854167, -93.68333333],\n",
       "       [-93.71923077, -92.86972222, -92.        , -92.84444444,\n",
       "        -93.21538462, -94.49319728]])"
      ]
     },
     "execution_count": 183,
     "metadata": {},
     "output_type": "execute_result"
    }
   ],
   "source": [
    "esp2avg=create_quidistant_average_matrix(esp2data, 3, 5)\n",
    "esp2avg"
   ]
  },
  {
   "cell_type": "code",
   "execution_count": 184,
   "metadata": {},
   "outputs": [
    {
     "data": {
      "text/plain": [
       "array([[-63.83163265, -77.84722222, -86.91666667, -89.06666667,\n",
       "        -92.5       , -92.12      ],\n",
       "       [-79.36615385, -86.1743007 , -86.6625    , -93.07189542,\n",
       "        -91.54117647, -93.71935484],\n",
       "       [-86.78947368, -90.01135531, -88.20512821, -86.5       ,\n",
       "        -92.34183673, -94.84848485],\n",
       "       [-95.        , -85.08705882, -93.1       , -89.92      ,\n",
       "        -92.24      , -95.41666667],\n",
       "       [-92.57142857, -87.43875   , -92.125     , -88.66666667,\n",
       "        -86.97058824, -96.19047619],\n",
       "       [-93.6       , -89.96666667, -89.5       , -89.6       ,\n",
       "        -90.        , -92.6744186 ]])"
      ]
     },
     "execution_count": 184,
     "metadata": {},
     "output_type": "execute_result"
    }
   ],
   "source": [
    "esp3avg=create_quidistant_average_matrix(esp3data, 5, 1)\n",
    "esp3avg"
   ]
  },
  {
   "cell_type": "code",
   "execution_count": 185,
   "metadata": {},
   "outputs": [],
   "source": [
    "def avg_matrix(avgEsp):\n",
    "    row, col = avgEsp.shape\n",
    "    avgmat = np.zeros((row, col))\n",
    "    for i in range(row):\n",
    "        for j in range(col): \n",
    "            \n",
    "            avgmat[i][j] = avgEsp[i][j]\n",
    "\n",
    "            if i < col and j < row:\n",
    "                avgmat[i][j] = (avgEsp[i][j] + avgEsp[j][i]) / 2\n",
    "    \n",
    "    return avgmat\n",
    "\n",
    "def avg_dat_array(avgmat, unitdistance):\n",
    "    avgdatarray = []\n",
    "    for (i,j), dat in np.ndenumerate(avgmat):\n",
    "        if i <= j:\n",
    "            avgdatarray.append([math.sqrt(i**2 + j**2) * unitdistance, dat])\n",
    "\n",
    "    return avgdatarray"
   ]
  },
  {
   "cell_type": "code",
   "execution_count": 186,
   "metadata": {},
   "outputs": [
    {
     "data": {
      "text/plain": [
       "array([[-49.61538462, -78.41666667, -92.6483871 , -89.45454545,\n",
       "        -93.11290323, -92.36363636],\n",
       "       [-78.41666667, -88.52377908, -88.71706461, -90.87171053,\n",
       "        -91.36246082, -94.34615385],\n",
       "       [-92.6483871 , -88.71706461, -90.52173913, -91.75891341,\n",
       "        -92.74443907, -95.14772727],\n",
       "       [-89.45454545, -90.87171053, -91.75891341, -98.5       ,\n",
       "        -93.28333333, -93.52484472],\n",
       "       [-93.11290323, -91.36246082, -92.74443907, -93.28333333,\n",
       "        -92.625     , -91.25      ],\n",
       "       [-92.36363636, -94.34615385, -95.14772727, -93.52484472,\n",
       "        -91.25      , -91.93333333]])"
      ]
     },
     "execution_count": 186,
     "metadata": {},
     "output_type": "execute_result"
    }
   ],
   "source": [
    "avg_matrix(esp1avg)"
   ]
  },
  {
   "cell_type": "code",
   "execution_count": 187,
   "metadata": {},
   "outputs": [
    {
     "data": {
      "text/plain": [
       "[[0.0, -49.61538461538461],\n",
       " [0.5, -78.41666666666666],\n",
       " [1.0, -92.6483870967742],\n",
       " [1.5, -89.45454545454545],\n",
       " [2.0, -93.11290322580645],\n",
       " [2.5, -92.36363636363637],\n",
       " [0.7071067811865476, -88.52377907684813],\n",
       " [1.118033988749895, -88.71706461130918],\n",
       " [1.5811388300841898, -90.8717105263158],\n",
       " [2.0615528128088303, -91.36246081504703],\n",
       " [2.5495097567963922, -94.34615384615384],\n",
       " [1.4142135623730951, -90.52173913043478],\n",
       " [1.8027756377319946, -91.75891341256366],\n",
       " [2.23606797749979, -92.74443907156673],\n",
       " [2.692582403567252, -95.14772727272728],\n",
       " [2.1213203435596424, -98.5],\n",
       " [2.5, -93.28333333333333],\n",
       " [2.9154759474226504, -93.5248447204969],\n",
       " [2.8284271247461903, -92.625],\n",
       " [3.2015621187164243, -91.25],\n",
       " [3.5355339059327378, -91.93333333333334]]"
      ]
     },
     "execution_count": 187,
     "metadata": {},
     "output_type": "execute_result"
    }
   ],
   "source": [
    "# avg_matrix(esp1avg)\n",
    "esp1_avg_array = avg_dat_array(avg_matrix(esp1avg), 0.5)\n",
    "esp1_avg_array"
   ]
  },
  {
   "cell_type": "code",
   "execution_count": 188,
   "metadata": {},
   "outputs": [
    {
     "data": {
      "text/plain": [
       "[[0.0, -51.08247422680412],\n",
       " [0.5, -76.85770817935452],\n",
       " [1.0, -85.65261437908498],\n",
       " [1.5, -93.61675824175825],\n",
       " [2.0, -91.14634146341463],\n",
       " [2.5, -98.5],\n",
       " [0.7071067811865476, -83.3309659090909],\n",
       " [1.118033988749895, -90.87204415954416],\n",
       " [1.5811388300841898, -92.62804292929292],\n",
       " [2.0615528128088303, -94.62745098039215],\n",
       " [2.5495097567963922, -96.76190476190476],\n",
       " [1.4142135623730951, -91.70066889632108],\n",
       " [1.8027756377319946, -92.15563725490196],\n",
       " [2.23606797749979, -91.93854166666667],\n",
       " [2.692582403567252, -93.68333333333334],\n",
       " [2.1213203435596424, -92.84444444444445],\n",
       " [2.5, -93.21538461538461],\n",
       " [2.9154759474226504, -94.49319727891157]]"
      ]
     },
     "execution_count": 188,
     "metadata": {},
     "output_type": "execute_result"
    }
   ],
   "source": [
    "esp2_avg_array = avg_dat_array(avg_matrix(esp2avg), 0.5)\n",
    "esp2_avg_array"
   ]
  },
  {
   "cell_type": "code",
   "execution_count": 189,
   "metadata": {},
   "outputs": [
    {
     "data": {
      "text/plain": [
       "[[0.0, -63.83163265306123],\n",
       " [0.5, -78.60668803418804],\n",
       " [1.0, -86.8530701754386],\n",
       " [1.5, -92.03333333333333],\n",
       " [2.0, -92.53571428571428],\n",
       " [2.5, -92.86],\n",
       " [0.7071067811865476, -86.17430069930072],\n",
       " [1.118033988749895, -88.33692765567766],\n",
       " [1.5811388300841898, -89.07947712418301],\n",
       " [2.0615528128088303, -89.48996323529411],\n",
       " [2.5495097567963922, -91.84301075268817],\n",
       " [1.4142135623730951, -88.2051282051282],\n",
       " [1.8027756377319946, -89.8],\n",
       " [2.23606797749979, -92.23341836734693],\n",
       " [2.692582403567252, -92.17424242424242],\n",
       " [2.1213203435596424, -89.92],\n",
       " [2.5, -90.45333333333333],\n",
       " [2.9154759474226504, -92.50833333333333],\n",
       " [2.8284271247461903, -86.97058823529412],\n",
       " [3.2015621187164243, -93.0952380952381],\n",
       " [3.5355339059327378, -92.67441860465117]]"
      ]
     },
     "execution_count": 189,
     "metadata": {},
     "output_type": "execute_result"
    }
   ],
   "source": [
    "esp3_avg_array = avg_dat_array(avg_matrix(esp3avg), 0.5)\n",
    "esp3_avg_array"
   ]
  },
  {
   "attachments": {},
   "cell_type": "markdown",
   "metadata": {},
   "source": [
    "### Create scatter plot of recieved RSSI data"
   ]
  },
  {
   "attachments": {},
   "cell_type": "markdown",
   "metadata": {},
   "source": []
  },
  {
   "cell_type": "code",
   "execution_count": 68,
   "metadata": {},
   "outputs": [],
   "source": [
    "## Generic function\n",
    "def createscatter(data: np.array):\n",
    "    rows, cols = data.shape\n",
    "\n",
    "    x = []\n",
    "    y = []\n",
    "    area = []\n",
    "\n",
    "    for (i,j), dat in np.ndenumerate(data):\n",
    "        x.append(i)\n",
    "        y.append(j)\n",
    "        area.append((100+dat)*10)\n",
    "\n",
    "    plt.scatter(x, y, s = area)\n",
    "    plt.show()"
   ]
  },
  {
   "cell_type": "code",
   "execution_count": 69,
   "metadata": {},
   "outputs": [
    {
     "data": {
      "image/png": "[encoded data removed]",
      "text/plain": [
       "<Figure size 640x480 with 1 Axes>"
      ]
     },
     "metadata": {},
     "output_type": "display_data"
    }
   ],
   "source": [
    "createscatter(esp1data)"
   ]
  },
  {
   "cell_type": "code",
   "execution_count": 70,
   "metadata": {},
   "outputs": [
    {
     "data": {
      "image/png": "[encoded data removed]",
      "text/plain": [
       "<Figure size 640x480 with 1 Axes>"
      ]
     },
     "metadata": {},
     "output_type": "display_data"
    }
   ],
   "source": [
    "createscatter(esp2data)"
   ]
  },
  {
   "cell_type": "code",
   "execution_count": 71,
   "metadata": {},
   "outputs": [
    {
     "data": {
      "image/png": "[encoded data removed]",
      "text/plain": [
       "<Figure size 640x480 with 1 Axes>"
      ]
     },
     "metadata": {},
     "output_type": "display_data"
    }
   ],
   "source": [
    "createscatter(esp3data)"
   ]
  },
  {
   "cell_type": "code",
   "execution_count": null,
   "metadata": {},
   "outputs": [],
   "source": []
  },
  {
   "attachments": {},
   "cell_type": "markdown",
   "metadata": {},
   "source": [
    "### Extract data from extra data from file to calculate accuracies"
   ]
  },
  {
   "cell_type": "code",
   "execution_count": 190,
   "metadata": {},
   "outputs": [],
   "source": [
    "def xdata():\n",
    "    directory = \"./xdata\"\n",
    "    x_data=[]\n",
    "    for filename in os.listdir(directory):\n",
    "        with open(os.path.join(directory,filename),'r') as file:\n",
    "            xrssi1= 0.00\n",
    "            xrssi2= 0.00\n",
    "            xrssi3= 0.00\n",
    "            count1=0\n",
    "            count2=0\n",
    "            count3=0\n",
    "            distances=filename[1::].split('x')\n",
    "            for line in file:\n",
    "                if 'esp1:' in line:\n",
    "                    rssi1= float(line.split(': ')[1])\n",
    "                    count1=count1+1\n",
    "                    xrssi1=xrssi1+rssi1\n",
    "                if 'esp2' in line:\n",
    "                    rssi2= float(line.split(': ')[1])\n",
    "                    count2=count2+1\n",
    "                    xrssi2=xrssi2+rssi2\n",
    "                if 'esp3' in line:\n",
    "                    rssi3= float(line.split(': ')[1])\n",
    "                    count3=count3+1\n",
    "                    xrssi3=xrssi3+rssi3\n",
    "\n",
    "\n",
    "            if count1==0:\n",
    "                count1=1\n",
    "            if count2==0:\n",
    "                count2=1\n",
    "            if count3==0:\n",
    "                count3=1\n",
    "                    \n",
    "            xrssi1=xrssi1/count1\n",
    "            xrssi2=xrssi2/count2\n",
    "            xrssi3=xrssi3/count3\n",
    "        x_data.append([distances,[xrssi1,xrssi2,xrssi3]])\n",
    "        \n",
    "    return x_data\n",
    "    \n",
    "Xdata=xdata()"
   ]
  },
  {
   "cell_type": "code",
   "execution_count": 191,
   "metadata": {},
   "outputs": [
    {
     "data": {
      "text/plain": [
       "[[['1.9', '0.4', '1.9'], [-95.94117647058823, -56.95454545454545, -89.875]],\n",
       " [['2.3', '1.9', '3.6'], [-98.0, -93.33333333333333, -97.75]],\n",
       " [['2.4', '1', '1.5'], [-96.75, -92.0, -93.0]],\n",
       " [['2.3', '1.9', '3.6'], [0.0, -91.75, -91.81481481481481]],\n",
       " [['3.2', '1.1', '2.5'], [-92.92857142857143, -93.4, -94.58333333333333]],\n",
       " [['1.7', '2.8', '0.9'], [-96.05, -96.81818181818181, -91.95833333333333]],\n",
       " [['1.5', '1', '1.3'], [-94.78571428571429, -94.0, -91.47058823529412]],\n",
       " [['2', '2.8', '0.7'],\n",
       "  [-93.58333333333333, -90.86666666666666, -88.16666666666667]],\n",
       " [['1.4', '3', '1.5'],\n",
       "  [-91.67857142857143, -92.14285714285714, -89.14285714285714]],\n",
       " [['1.4', '3', '1.5'], [-87.92307692307692, -94.6, -87.57142857142857]]]"
      ]
     },
     "execution_count": 191,
     "metadata": {},
     "output_type": "execute_result"
    }
   ],
   "source": [
    "Xdata"
   ]
  },
  {
   "attachments": {},
   "cell_type": "markdown",
   "metadata": {},
   "source": [
    "### Interpolation"
   ]
  },
  {
   "cell_type": "code",
   "execution_count": 192,
   "metadata": {},
   "outputs": [],
   "source": [
    "def interpolate_distance(distRSSI,RSSI):\n",
    "    sorted_distRSSI = np.array(sorted(distRSSI,key=lambda x:x[1]))\n",
    "    dists=sorted_distRSSI[:,0]\n",
    "    RSSIs=sorted_distRSSI[:,1]\n",
    "    dist = np.interp(RSSI,RSSIs,dists)\n",
    "    return dist\n"
   ]
  },
  {
   "cell_type": "code",
   "execution_count": 193,
   "metadata": {},
   "outputs": [
    {
     "data": {
      "text/plain": [
       "[[2.55737042645279, 0.11390917418152674, 2.0018660788742744],\n",
       " [2.206525532170947, 2.2061373488478235, 3.2015621187164243],\n",
       " [2.4195385036992088, 2.11340576559262, 2.9175288722725163],\n",
       " [0.0, 1.5846533537905574, 2.548505225811493],\n",
       " [2.11809787753156, 2.0400410677617895, 3.2015621187164243],\n",
       " [2.5388257677550357, 2.547906701159149, 1.9135779973816505],\n",
       " [2.6279667931935617, 2.7797364940037803, 2.5362415349739207],\n",
       " [2.88941407356043, 1.1179123802676463, 1.4582727509381639],\n",
       " [1.8552173969430812, 1.8282829485687029, 1.6553158762063596],\n",
       " [0.6947976780054989, 2.236155277889358, 2.1401411453976658]]"
      ]
     },
     "execution_count": 193,
     "metadata": {},
     "output_type": "execute_result"
    }
   ],
   "source": [
    "def interpDR(Xdata):\n",
    "    esp=[esp1_avg_array,esp2_avg_array,esp3_avg_array]\n",
    "    distArray=[]\n",
    "    for data in Xdata:\n",
    "        calDist=[]\n",
    "        for i in range(len(data[1])):\n",
    "            calDist.append(interpolate_distance(esp[i],data[1][i]))\n",
    "        distArray.append(calDist)\n",
    "        data.append(calDist)\n",
    "    \n",
    "    return distArray\n",
    "caldists=interpDR(Xdata)\n",
    "caldists"
   ]
  },
  {
   "cell_type": "code",
   "execution_count": 194,
   "metadata": {},
   "outputs": [
    {
     "data": {
      "text/plain": [
       "[[['1.9', '0.4', '1.9'],\n",
       "  [-95.94117647058823, -56.95454545454545, -89.875],\n",
       "  [2.55737042645279, 0.11390917418152674, 2.0018660788742744]],\n",
       " [['2.3', '1.9', '3.6'],\n",
       "  [-98.0, -93.33333333333333, -97.75],\n",
       "  [2.206525532170947, 2.2061373488478235, 3.2015621187164243]],\n",
       " [['2.4', '1', '1.5'],\n",
       "  [-96.75, -92.0, -93.0],\n",
       "  [2.4195385036992088, 2.11340576559262, 2.9175288722725163]],\n",
       " [['2.3', '1.9', '3.6'],\n",
       "  [0.0, -91.75, -91.81481481481481],\n",
       "  [0.0, 1.5846533537905574, 2.548505225811493]],\n",
       " [['3.2', '1.1', '2.5'],\n",
       "  [-92.92857142857143, -93.4, -94.58333333333333],\n",
       "  [2.11809787753156, 2.0400410677617895, 3.2015621187164243]],\n",
       " [['1.7', '2.8', '0.9'],\n",
       "  [-96.05, -96.81818181818181, -91.95833333333333],\n",
       "  [2.5388257677550357, 2.547906701159149, 1.9135779973816505]],\n",
       " [['1.5', '1', '1.3'],\n",
       "  [-94.78571428571429, -94.0, -91.47058823529412],\n",
       "  [2.6279667931935617, 2.7797364940037803, 2.5362415349739207]],\n",
       " [['2', '2.8', '0.7'],\n",
       "  [-93.58333333333333, -90.86666666666666, -88.16666666666667],\n",
       "  [2.88941407356043, 1.1179123802676463, 1.4582727509381639]],\n",
       " [['1.4', '3', '1.5'],\n",
       "  [-91.67857142857143, -92.14285714285714, -89.14285714285714],\n",
       "  [1.8552173969430812, 1.8282829485687029, 1.6553158762063596]],\n",
       " [['1.4', '3', '1.5'],\n",
       "  [-87.92307692307692, -94.6, -87.57142857142857],\n",
       "  [0.6947976780054989, 2.236155277889358, 2.1401411453976658]]]"
      ]
     },
     "execution_count": 194,
     "metadata": {},
     "output_type": "execute_result"
    }
   ],
   "source": [
    "Xdata"
   ]
  },
  {
   "attachments": {},
   "cell_type": "markdown",
   "metadata": {},
   "source": [
    "### Curve fitting"
   ]
  },
  {
   "cell_type": "code",
   "execution_count": 204,
   "metadata": {},
   "outputs": [],
   "source": [
    "#linear\n",
    "def f1(x,a,b):\n",
    "    return a*x+b\n",
    "\n",
    "#square\n",
    "def f2(x,a,b,c):\n",
    "    return a*(x**2)+b*x+c\n",
    "\n",
    "#cube\n",
    "def f3(x,a,b,c,d):\n",
    "    return a*(x**3)+b*(x**2)+c*x+d\n",
    "\n",
    "#exponential\n",
    "def fexp(x,a,b,c):\n",
    "    return a*(np.exp(b*x))+c\n",
    "\n",
    "#logarithmic\n",
    "def flog(x,a,b,c):\n",
    "    return a*(np.log(b*x))+c\n",
    "\n",
    "def curveFitting(distRSSI):\n",
    "    DistRSSI=np.array(distRSSI)\n",
    "    dists=np.array(DistRSSI[:,0])\n",
    "    RSSIs=np.array(DistRSSI[:,1])\n",
    "    args1,cov1=curve_fit(f1,dists,RSSIs)\n",
    "    y1=f1(dists,args1[0],args1[1])\n",
    "    \n",
    "    \n",
    "    args2,cov2=curve_fit(f2,dists,RSSIs)\n",
    "    y2=f2(dists,args2[0],args2[1],args2[2])\n",
    "\n",
    "    args3,cov3=curve_fit(f3,dists,RSSIs)\n",
    "    y3=f3(dists,args3[0],args3[1],args3[2],args3[3])\n",
    "\n",
    "    # args4,cov4=curve_fit(fexp,dists,RSSIs)\n",
    "    # y4=fexp(dists,args4[0],args4[1],args4[2])\n",
    "\n",
    "    # args5,cov5=curve_fit(flog,dists,RSSIs)\n",
    "    # y5=flog(dists,args5[0],args5[1],args5[2])\n",
    "\n",
    "    plt.plot(dists,RSSIs,'bo',label='observed data')\n",
    "    plt.plot(dists,y1,label='y=ax+b')\n",
    "    plt.plot(dists,y2)\n",
    "    plt.plot(dists,y3)\n",
    "    # plt.plot(dists,y4)\n",
    "    # plt.plot(dists,y5)\n",
    "    plt.show()\n",
    "    # return DistRSSI\n",
    "    "
   ]
  },
  {
   "cell_type": "code",
   "execution_count": 205,
   "metadata": {},
   "outputs": [
    {
     "data": {
      "image/png": "[encoded data removed]",
      "text/plain": [
       "<Figure size 432x288 with 1 Axes>"
      ]
     },
     "metadata": {
      "needs_background": "light"
     },
     "output_type": "display_data"
    }
   ],
   "source": [
    "curveFitting(esp1_avg_array)\n"
   ]
  },
  {
   "cell_type": "code",
   "execution_count": 206,
   "metadata": {},
   "outputs": [
    {
     "data": {
      "image/png": "[encoded data removed]",
      "text/plain": [
       "<Figure size 432x288 with 1 Axes>"
      ]
     },
     "metadata": {
      "needs_background": "light"
     },
     "output_type": "display_data"
    }
   ],
   "source": [
    "curveFitting(esp2_avg_array)\n"
   ]
  },
  {
   "cell_type": "code",
   "execution_count": 207,
   "metadata": {},
   "outputs": [
    {
     "data": {
      "image/png": "[encoded data removed]",
      "text/plain": [
       "<Figure size 432x288 with 1 Axes>"
      ]
     },
     "metadata": {
      "needs_background": "light"
     },
     "output_type": "display_data"
    }
   ],
   "source": [
    "curveFitting(esp3_avg_array)\n"
   ]
  }
 ],
 "metadata": {
  "kernelspec": {
   "display_name": "venv",
   "language": "python",
   "name": "python3"
  },
  "language_info": {
   "codemirror_mode": {
    "name": "ipython",
    "version": 3
   },
   "file_extension": ".py",
   "mimetype": "text/x-python",
   "name": "python",
   "nbconvert_exporter": "python",
   "pygments_lexer": "ipython3",
   "version": "3.10.6"
  },
  "orig_nbformat": 4,
  "vscode": {
   "interpreter": {
    "hash": "e9b4b9e13d7a4654ec3dcd113c0278083ccc1e3971d6067da21f2d588127fdbe"
   }
  }
 },
 "nbformat": 4,
 "nbformat_minor": 2
}
