{
 "cells": [
  {
   "cell_type": "code",
   "execution_count": 2,
   "metadata": {},
   "outputs": [],
   "source": [
    "import matplotlib as plt\n",
    "import numpy as np\n",
    "import sys\n",
    "import os"
   ]
  },
  {
   "attachments": {},
   "cell_type": "markdown",
   "metadata": {},
   "source": [
    "### Retrieve RSSI data, make a 6x6 array"
   ]
  },
  {
   "cell_type": "code",
   "execution_count": 10,
   "metadata": {},
   "outputs": [
    {
     "name": "stdout",
     "output_type": "stream",
     "text": [
      "n63\n",
      "n43\n",
      "m23\n",
      "n53\n",
      "m01\n",
      "n46\n",
      "n56\n",
      "m21\n",
      "n32\n",
      "n40\n",
      "m22\n",
      "m26\n",
      "m14\n",
      "m10\n",
      "n54\n",
      "m33\n",
      "m05\n",
      "n44\n",
      "n66\n",
      "n62\n",
      "m12\n",
      "n64\n",
      "n52\n",
      "n51\n",
      "m24\n",
      "m20\n",
      "m36\n",
      "n65\n",
      "n30\n",
      "m00\n",
      "m35\n",
      "m04\n",
      "n51-a\n",
      "n45\n",
      "m25\n",
      "m03\n",
      "m11\n",
      "n61\n",
      "n50\n",
      "m34\n",
      "m06\n",
      "m13\n",
      "m15\n",
      "n42\n",
      "n31\n",
      "m16\n",
      "m02\n",
      "n41\n",
      "n55\n",
      "n60\n"
     ]
    }
   ],
   "source": [
    "esp1data = np.array(ndmin=2)\n",
    "esp2data = np.array(ndmin=2)\n",
    "esp3data = np.array(ndmin=3)\n",
    "\n",
    "for file in os.listdir('./ble-data'):\n",
    "    for file"
   ]
  },
  {
   "cell_type": "code",
   "execution_count": null,
   "metadata": {},
   "outputs": [],
   "source": []
  }
 ],
 "metadata": {
  "kernelspec": {
   "display_name": "venv",
   "language": "python",
   "name": "python3"
  },
  "language_info": {
   "codemirror_mode": {
    "name": "ipython",
    "version": 3
   },
   "file_extension": ".py",
   "mimetype": "text/x-python",
   "name": "python",
   "nbconvert_exporter": "python",
   "pygments_lexer": "ipython3",
   "version": "3.10.9"
  },
  "orig_nbformat": 4,
  "vscode": {
   "interpreter": {
    "hash": "e9b4b9e13d7a4654ec3dcd113c0278083ccc1e3971d6067da21f2d588127fdbe"
   }
  }
 },
 "nbformat": 4,
 "nbformat_minor": 2
}
